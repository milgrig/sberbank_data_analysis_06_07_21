{
 "cells": [
  {
   "cell_type": "markdown",
   "metadata": {},
   "source": [
    "### Упражнение 1\n",
    "\n",
    "На одном графике изобразите время затраченное на вычисление с использованием массивов numpy и стандартных списков в питоне.  \n",
    "Для более точных результатов замеряйте время выполнения функции несколько раз и усредняйте. \n",
    "* Используйте функцию `z = 2*x**2 + 4*y`\n",
    "* Перемножение матриц размера n на n"
   ]
  },
  {
   "cell_type": "code",
   "execution_count": 29,
   "metadata": {
    "collapsed": true
   },
   "outputs": [],
   "source": [
    "import numpy as np\n",
    "from IPython import display\n",
    "import time\n",
    "import matplotlib.pyplot as plt\n",
    "%matplotlib inline "
   ]
  },
  {
   "cell_type": "code",
   "execution_count": 5,
   "metadata": {},
   "outputs": [
    {
     "data": {
      "text/plain": [
       "array([ 0.91886571,  0.29265722,  0.83346607,  0.36121728,  0.40545968,\n",
       "        0.95414544,  0.90737588,  0.65829478,  0.59515199,  0.88102512])"
      ]
     },
     "execution_count": 5,
     "metadata": {},
     "output_type": "execute_result"
    }
   ],
   "source": [
    "x = np.random.random(10)\n",
    "len(x)\n",
    "x"
   ]
  },
  {
   "cell_type": "code",
   "execution_count": 18,
   "metadata": {},
   "outputs": [
    {
     "data": {
      "text/plain": [
       "3.2584253807207277"
      ]
     },
     "execution_count": 18,
     "metadata": {},
     "output_type": "execute_result"
    }
   ],
   "source": [
    "i = 1\n",
    "2*x[i]**2 + 4*y[i]"
   ]
  },
  {
   "cell_type": "code",
   "execution_count": 19,
   "metadata": {
    "collapsed": true
   },
   "outputs": [],
   "source": [
    "z =  []"
   ]
  },
  {
   "cell_type": "code",
   "execution_count": 30,
   "metadata": {},
   "outputs": [],
   "source": [
    "def python():\n",
    "    start = time.time()\n",
    "    X = range(size_of_vec)\n",
    "    Y = range(size_of_vec)\n",
    "    Z = [X[i] + Y[i] for i in range(len(X))]\n",
    "    return time.time() - start\n",
    "\n",
    "def numpy():\n",
    "    start = time.time()\n",
    "    X = np.arange(size_of_vec)\n",
    "    Y = np.arange(size_of_vec)\n",
    "    Z = X + Y\n",
    "    return time.time() - start"
   ]
  },
  {
   "cell_type": "code",
   "execution_count": 42,
   "metadata": {},
   "outputs": [],
   "source": [
    "def time_p(x,y):\n",
    "    start = time.time()\n",
    "    z = []\n",
    "    for i in range(len(x)):\n",
    "        z += [2*x[i]**2 + 4*y[i]]\n",
    "    return time.time() - start\n",
    "def time_n(x,y):\n",
    "    start = time.time()\n",
    "    z = 2*x**2 + 4*y\n",
    "    return time.time() - start\n",
    "def compare(n , count = 100):\n",
    "    pTime = 0\n",
    "    nTime = 0\n",
    "    for i in range(count):\n",
    "        x = np.random.random(n)\n",
    "        y = np.random.random(n)\n",
    "        pTime += time_p(x,y)\n",
    "        nTime += time_n(x,y) \n",
    "    if nTime > 0:\n",
    "        return pTime/nTime\n",
    "    else:\n",
    "        return 0"
   ]
  },
  {
   "cell_type": "code",
   "execution_count": 66,
   "metadata": {},
   "outputs": [
    {
     "data": {
      "image/png": "[encoded data removed]",
      "text/plain": [
       "<matplotlib.figure.Figure at 0x24916a4fcc0>"
      ]
     },
     "metadata": {},
     "output_type": "display_data"
    }
   ],
   "source": [
    "x = np.arange(10000, 100000, 5000)\n",
    "y = []\n",
    "for i in range(len(x)):\n",
    "    y += [compare(x[i] , count = 50)]\n",
    "plt.plot(x,y)\n",
    "plt.show()"
   ]
  },
  {
   "cell_type": "code",
   "execution_count": 86,
   "metadata": {},
   "outputs": [],
   "source": [
    "n = 4\n",
    "a = 5\n",
    "b =6\n",
    "x = np.random.random((a,n+1))\n",
    "y = np.random.random((n,b))\n",
    "\n",
    "def dot_p(x,y):\n",
    "    a = x.shape[0]\n",
    "    b = y.shape[1]\n",
    "    n = x.shape[1]\n",
    "    if n != y.shape[0]:\n",
    "        return np.nan\n",
    "    z =  np.zeros((a,b))\n",
    "    for i in range(a):\n",
    "        for j in range(b):\n",
    "            s = 0\n",
    "            for k in range(n):\n",
    "                z[i,j] += x[i,k]*y[k,j]\n",
    "    return z\n",
    "def time_p2(x,y):\n",
    "    start = time.time()\n",
    "    z = dot_p(x,y)\n",
    "    return time.time() - start\n",
    "def time_n2(x,y):\n",
    "    start = time.time()\n",
    "    z = np.dot(x,y)\n",
    "    return time.time() - start\n",
    "def compare_2(n , count = 100):\n",
    "    pTime = 0\n",
    "    nTime = 0\n",
    "    for i in range(count):\n",
    "        x = np.random.random((n,n))\n",
    "        y = np.random.random((n,n))\n",
    "        pTime += time_p2(x,y)\n",
    "        nTime += time_n2(x,y) \n",
    "    if nTime > 0:\n",
    "        return pTime/nTime\n",
    "    else:\n",
    "        return 0\n"
   ]
  },
  {
   "cell_type": "code",
   "execution_count": 89,
   "metadata": {},
   "outputs": [
    {
     "data": {
      "image/png": "[encoded data removed]",
      "text/plain": [
       "<matplotlib.figure.Figure at 0x249156b9240>"
      ]
     },
     "metadata": {},
     "output_type": "display_data"
    }
   ],
   "source": [
    "x = np.arange(1, 50)\n",
    "y = []\n",
    "for i in range(len(x)):\n",
    "    y += [compare_2(x[i] , count = 50)]\n",
    "plt.plot(x,y)\n",
    "plt.show()"
   ]
  },
  {
   "cell_type": "markdown",
   "metadata": {},
   "source": [
    "### Упражнение 2\n",
    "* Создайте массив чисел от 2 до 75. Выведите только нечётные. \n",
    "* Присвойте нечётным числам этого массива значение -1.\n",
    "\n"
   ]
  },
  {
   "cell_type": "code",
   "execution_count": 102,
   "metadata": {},
   "outputs": [
    {
     "name": "stdout",
     "output_type": "stream",
     "text": [
      "[ 3  5  7  9 11 13 15 17 19 21 23 25 27 29 31 33 35 37 39 41 43 45 47 49 51\n",
      " 53 55 57 59 61 63 65 67 69 71 73]\n"
     ]
    },
    {
     "data": {
      "text/plain": [
       "array([ 2, -1,  4, -1,  6, -1,  8, -1, 10, -1, 12, -1, 14, -1, 16, -1, 18,\n",
       "       -1, 20, -1, 22, -1, 24, -1, 26, -1, 28, -1, 30, -1, 32, -1, 34, -1,\n",
       "       36, -1, 38, -1, 40, -1, 42, -1, 44, -1, 46, -1, 48, -1, 50, -1, 52,\n",
       "       -1, 54, -1, 56, -1, 58, -1, 60, -1, 62, -1, 64, -1, 66, -1, 68, -1,\n",
       "       70, -1, 72, -1, 74])"
      ]
     },
     "execution_count": 102,
     "metadata": {},
     "output_type": "execute_result"
    }
   ],
   "source": [
    "x  = np.arange(2,75)\n",
    "print(x[1::2])\n",
    "x[1::2] = -1\n",
    "print(x)"
   ]
  },
  {
   "cell_type": "markdown",
   "metadata": {},
   "source": [
    "### Упражнение 3\n",
    "\n",
    "* Найдите в документации функцию, которая удаляет из одного массива элементы, которые есть в другом. \n",
    "* Приведите примеры использования."
   ]
  },
  {
   "cell_type": "code",
   "execution_count": 110,
   "metadata": {},
   "outputs": [
    {
     "name": "stderr",
     "output_type": "stream",
     "text": [
      "C:\\Program Files\\Anaconda3\\lib\\site-packages\\ipykernel_launcher.py:3: DeprecationWarning: in the future out of bounds indices will raise an error instead of being ignored by `numpy.delete`.\n",
      "  This is separate from the ipykernel package so we can avoid doing imports until\n"
     ]
    },
    {
     "data": {
      "text/plain": [
       "array([ 2,  4,  8, 10, 14, 16, 20, 22, 26, 28, 32, 34, 38, 40, 44, 46, 50,\n",
       "       52, 56, 58, 62, 64, 68, 70, 74, 76, 80, 82, 86, 88, 92, 94, 98])"
      ]
     },
     "execution_count": 110,
     "metadata": {},
     "output_type": "execute_result"
    }
   ],
   "source": [
    "x = np.arange(0,100,2)\n",
    "y = np.arange(0,100,3)\n",
    "x = np.delete(x, y)\n",
    "x"
   ]
  },
  {
   "cell_type": "markdown",
   "metadata": {},
   "source": [
    "### Упражнение 4\n",
    "\n",
    "* Создайте случайную квадратную матрицу случайного размера от 10 до 100. \n",
    "* Найдите максимум и сумму элементов.\n",
    "* Поделите каждый элемент матрицы на максимум.\n",
    "* Отнимите от каждой строки матрицы среднее по строке.\n",
    "* Замените максимальное значение на -1."
   ]
  },
  {
   "cell_type": "code",
   "execution_count": 166,
   "metadata": {},
   "outputs": [],
   "source": [
    "n = np.random.randint(10, 101)\n",
    "x = np.random.random((n,n))"
   ]
  },
  {
   "cell_type": "code",
   "execution_count": 169,
   "metadata": {},
   "outputs": [
    {
     "name": "stdout",
     "output_type": "stream",
     "text": [
      "0.546774196002 -4.32986979604e-14\n"
     ]
    }
   ],
   "source": [
    "print(x.max() , x.sum())\n",
    "x = x / x.max()\n",
    "a = np.mean(x,axis = 1)\n",
    "a = a.reshape(n,1)\n",
    "x = x - a\n",
    "x[x == x.max()] = -1"
   ]
  },
  {
   "cell_type": "markdown",
   "metadata": {},
   "source": [
    "### Упражнение 5\n",
    "* Напишите функцию, которая берет многомерный вещественный массив с пропущенными значениями (np.nan) и возвращает его копию с заполненными пропусками (заменять средним значением всех элементов массива). Если в массиве одни пропущенные значения, заполните их нулями."
   ]
  },
  {
   "cell_type": "code",
   "execution_count": 211,
   "metadata": {
    "collapsed": true
   },
   "outputs": [],
   "source": [
    "def nan_to_mean(x):\n",
    "    y = x.copy()\n",
    "    x[np.isnan(x)] = 0\n",
    "    y[np.isnan(y)] = x.mean()\n",
    "    return y"
   ]
  },
  {
   "cell_type": "code",
   "execution_count": 212,
   "metadata": {},
   "outputs": [
    {
     "name": "stdout",
     "output_type": "stream",
     "text": [
      "[[ 0.15201631  0.14320875  0.61992067]\n",
      " [        nan         nan  0.72672678]\n",
      " [ 0.78998064  0.58091592  0.75309889]]\n",
      "[[ 0.15201631  0.14320875  0.61992067]\n",
      " [ 0.41842977  0.41842977  0.72672678]\n",
      " [ 0.78998064  0.58091592  0.75309889]]\n"
     ]
    }
   ],
   "source": [
    "x = np.random.random((3,3))\n",
    "x[1,1] = np.nan\n",
    "x[1,0] = np.nan\n",
    "print(x)\n",
    "print(nan_to_mean(x))"
   ]
  },
  {
   "cell_type": "markdown",
   "metadata": {},
   "source": [
    "### Упражнение 6\n",
    "* Напишите функцию которая нормализирует заданный numpy-массив, так чтобы его значения лежали в интервале $[0, 1]$."
   ]
  },
  {
   "cell_type": "code",
   "execution_count": 217,
   "metadata": {
    "collapsed": true
   },
   "outputs": [],
   "source": [
    "def norm(x):\n",
    "    x = x - x.min()\n",
    "    if x.max() == 0:\n",
    "        return x\n",
    "    x = x/x.max()\n",
    "    return(x)\n",
    "    "
   ]
  },
  {
   "cell_type": "code",
   "execution_count": 218,
   "metadata": {},
   "outputs": [
    {
     "name": "stdout",
     "output_type": "stream",
     "text": [
      "[[ 0.73812015 -1.27747235  1.27028711]\n",
      " [-0.72294574 -0.57187176 -3.23984796]\n",
      " [-1.19745002  1.27490608 -1.44759866]]\n"
     ]
    },
    {
     "data": {
      "text/plain": [
       "array([[ 0.88110406,  0.43465837,  0.99897692],\n",
       "       [ 0.55748379,  0.59094608,  0.        ],\n",
       "       [ 0.45238299,  1.        ,  0.39697607]])"
      ]
     },
     "execution_count": 218,
     "metadata": {},
     "output_type": "execute_result"
    }
   ],
   "source": [
    "x = (np.random.random((3,3))-0.7)*5\n",
    "print(x)\n",
    "norm(x)"
   ]
  },
  {
   "cell_type": "markdown",
   "metadata": {},
   "source": [
    "### Упражнение 7\n",
    "* Запишите numpy-array в файл.\n",
    "* Считайте numpy-array из файла."
   ]
  },
  {
   "cell_type": "code",
   "execution_count": 224,
   "metadata": {},
   "outputs": [
    {
     "data": {
      "text/plain": [
       "array([[ 0.,  0.,  0.],\n",
       "       [ 0.,  0.,  0.],\n",
       "       [ 0.,  0.,  0.]])"
      ]
     },
     "execution_count": 224,
     "metadata": {},
     "output_type": "execute_result"
    }
   ],
   "source": [
    "x = np.random.random((3,3))\n",
    "np.save('array', x)\n",
    "y = np.load('array.npy')\n",
    "x- y"
   ]
  },
  {
   "cell_type": "markdown",
   "metadata": {},
   "source": [
    "### Упражнение 8\n",
    "* Создайте случайный массив\n",
    "* Найдите в массиве элемент ближайший к данному"
   ]
  },
  {
   "cell_type": "code",
   "execution_count": 245,
   "metadata": {},
   "outputs": [
    {
     "data": {
      "text/plain": [
       "(array([[ 0.18548157,  0.45692828,  0.18425686],\n",
       "        [ 0.04371309,  0.5802551 ,  0.13159261],\n",
       "        [ 0.30470394,  0.62347826,  0.60448098]]), 0.34609896411504015)"
      ]
     },
     "execution_count": 245,
     "metadata": {},
     "output_type": "execute_result"
    }
   ],
   "source": [
    "x = np.random.random((3,3))\n",
    "z=x.mean()\n",
    "x, z"
   ]
  },
  {
   "cell_type": "code",
   "execution_count": 246,
   "metadata": {},
   "outputs": [
    {
     "data": {
      "text/plain": [
       "0.30470394102268383"
      ]
     },
     "execution_count": 246,
     "metadata": {},
     "output_type": "execute_result"
    }
   ],
   "source": [
    "#Найдём элемент в матрице X, который ближе всех к числу Z\n",
    "x = x - z\n",
    "x[np.abs(x) == np.abs(x).min()].min() + z"
   ]
  },
  {
   "cell_type": "markdown",
   "metadata": {},
   "source": [
    "### Упражнение 9"
   ]
  },
  {
   "cell_type": "markdown",
   "metadata": {},
   "source": [
    "* Напишите функцию, которая возвращает  $n \\times m$ целочисленную матрицу с заданным значением на границах матрицы и с заданным значением внутри"
   ]
  },
  {
   "cell_type": "code",
   "execution_count": 265,
   "metadata": {},
   "outputs": [
    {
     "data": {
      "text/plain": [
       "array([[ 3.,  3.,  3.,  3.],\n",
       "       [ 3.,  2.,  2.,  3.],\n",
       "       [ 3.,  2.,  2.,  3.],\n",
       "       [ 3.,  2.,  2.,  3.],\n",
       "       [ 3.,  3.,  3.,  3.]])"
      ]
     },
     "execution_count": 265,
     "metadata": {},
     "output_type": "execute_result"
    }
   ],
   "source": [
    "def f2(n,m,x,y):\n",
    "    if n <= 2 or m <= 2:\n",
    "        return np.ones((n, m)) * x\n",
    "    res = np.ones((n-2, m-2)) * x\n",
    "    res = np.hstack((np.ones((n-2, 1)) * y,res))\n",
    "    res = np.hstack((res, np.ones((n-2, 1)) * y))\n",
    "    res = np.vstack((np.ones((1, m)) * y,res))\n",
    "    res = np.vstack((res, np.ones((1, m)) * y))\n",
    "    return res\n",
    "f2(5,4,2,3)"
   ]
  },
  {
   "cell_type": "markdown",
   "metadata": {},
   "source": [
    "### Упражнение 10\n",
    "* Напишите функцию, которая сортирует строки данной матрицы по значениям заданного столбца в порядке убывания. "
   ]
  },
  {
   "cell_type": "code",
   "execution_count": 365,
   "metadata": {},
   "outputs": [],
   "source": [
    "def sort(x,i):\n",
    "    x = -x\n",
    "    t = 'f8' + ',f8'*(x.shape[1]-1)\n",
    "    return -np.sort(x.view(t), order=['f' + str(i)], axis=0).view(np.float)\n"
   ]
  },
  {
   "cell_type": "code",
   "execution_count": 366,
   "metadata": {},
   "outputs": [
    {
     "name": "stdout",
     "output_type": "stream",
     "text": [
      "[[ 0.40801501  0.15799214  0.98910623  0.18964414  0.3490445 ]\n",
      " [ 0.17903441  0.08391598  0.8447727   0.52110798  0.5000946 ]\n",
      " [ 0.41485808  0.7017824   0.49818902  0.35740224  0.78953443]\n",
      " [ 0.00280494  0.6731268   0.5383763   0.56807484  0.04271141]]\n"
     ]
    }
   ],
   "source": [
    "x = np.random.random((4,5))\n",
    "print(x)"
   ]
  },
  {
   "cell_type": "code",
   "execution_count": 367,
   "metadata": {},
   "outputs": [
    {
     "data": {
      "text/plain": [
       "array([[ 0.40801501,  0.15799214,  0.98910623,  0.18964414,  0.3490445 ],\n",
       "       [ 0.17903441,  0.08391598,  0.8447727 ,  0.52110798,  0.5000946 ],\n",
       "       [ 0.00280494,  0.6731268 ,  0.5383763 ,  0.56807484,  0.04271141],\n",
       "       [ 0.41485808,  0.7017824 ,  0.49818902,  0.35740224,  0.78953443]])"
      ]
     },
     "execution_count": 367,
     "metadata": {},
     "output_type": "execute_result"
    }
   ],
   "source": [
    "sort(x,2)"
   ]
  },
  {
   "cell_type": "markdown",
   "metadata": {},
   "source": [
    "### Упражнение 11\n",
    "\n",
    "* Напишите функцию, которая создает двоичную матрицу шахматной доски с заданным shape\n",
    "\n",
    "Пример 4x4:\n",
    "```python\n",
    "[[0, 1, 0, 1],\n",
    " [1, 0, 1, 0],\n",
    " [0, 1, 0, 1],\n",
    " [1, 0, 1, 0]]\n",
    "```"
   ]
  },
  {
   "cell_type": "code",
   "execution_count": 459,
   "metadata": {},
   "outputs": [
    {
     "data": {
      "text/plain": [
       "array([[0, 1, 0, 1, 0, 1],\n",
       "       [1, 0, 1, 0, 1, 0],\n",
       "       [0, 1, 0, 1, 0, 1],\n",
       "       [1, 0, 1, 0, 1, 0]])"
      ]
     },
     "execution_count": 459,
     "metadata": {},
     "output_type": "execute_result"
    }
   ],
   "source": [
    "def chess(m,n):\n",
    "    if n % 2 == 0:\n",
    "        x = ([1,0]*int(n/2) + [0,1]*int(n/2))*int(m/2) + [1,0] * (m%2)*int(n/2)\n",
    "    else:\n",
    "        x = ([1,0]*n)*int(m/2) + [1,0] * (m%2)*int(n/2) + [1]*(m%2) \n",
    "    return np.array(x).reshape(m,n)\n",
    "def chess2(m,n):\n",
    "    x, y = np.ogrid[:m, :n]\n",
    "    return np.where((x + y) % 2 == 1, 1, 0) \n",
    "chess2(4,6)"
   ]
  },
  {
   "cell_type": "markdown",
   "metadata": {},
   "source": [
    "### Упражнение 12\n",
    "* Напишите игру [life](https://en.wikipedia.org/wiki/Conway%27s_Game_of_Life), используя массивы numpy.\n",
    "* Визуализируйте интерактивно ее результаты.\n",
    "\n"
   ]
  },
  {
   "cell_type": "code",
   "execution_count": 554,
   "metadata": {},
   "outputs": [],
   "source": [
    "def step(x):\n",
    "    n = x.shape[0]\n",
    "    m = x.shape[1]\n",
    "    a = np.hstack(( x[1:,1:] , np.zeros((n-1, 1))  ))\n",
    "    a = np.vstack(( a , np.zeros((1, m)) )) \n",
    "    b = np.hstack(( np.zeros((n-1, 1)) , x[1:,:-1]  ))\n",
    "    b = np.vstack(( b , np.zeros((1, m)) )) \n",
    "    c = np.hstack(( np.zeros((n-1, 1)) , x[:-1,:-1]  ))\n",
    "    c = np.vstack(( np.zeros((1, m)) , c ))\n",
    "    d = np.hstack(( x[:-1,1:] , np.zeros((n-1, 1))  ))\n",
    "    d = np.vstack(( np.zeros((1, m)) , d ))\n",
    "    e = np.hstack(( np.zeros((n, 1)), x[:,:-1] ))\n",
    "    f = np.hstack(( x[:,1:] , np.zeros((n, 1)) ))\n",
    "    g = np.vstack(( np.zeros((1, m)) , x[:-1,:] ))\n",
    "    h = np.vstack(( x[1:,:] , np.zeros((1, m)) )) \n",
    "    y = (a+b+c+d+e+f+h+g) * 2 + x\n",
    "    return np.where( (y<= 7) & (y>=5), 1, 0) "
   ]
  },
  {
   "cell_type": "code",
   "execution_count": 561,
   "metadata": {},
   "outputs": [
    {
     "data": {
      "image/png": "[encoded data removed]",
      "text/plain": [
       "<matplotlib.figure.Figure at 0x24918713240>"
      ]
     },
     "metadata": {},
     "output_type": "display_data"
    }
   ],
   "source": [
    "x = np.random.randint(2, size=(100, 200))\n",
    "for i in range(150):    \n",
    "    fig = plt.figure(figsize=(20, 10))\n",
    "    plt.imshow(x)\n",
    "    plt.show()\n",
    "    x = step(x) \n",
    "    display.clear_output(wait=True)\n",
    "    time.sleep(0.2)"
   ]
  }
 ],
 "metadata": {
  "kernelspec": {
   "display_name": "Python 3",
   "language": "python",
   "name": "python3"
  },
  "language_info": {
   "codemirror_mode": {
    "name": "ipython",
    "version": 3
   },
   "file_extension": ".py",
   "mimetype": "text/x-python",
   "name": "python",
   "nbconvert_exporter": "python",
   "pygments_lexer": "ipython3",
   "version": "3.6.1"
  }
 },
 "nbformat": 4,
 "nbformat_minor": 2
}
